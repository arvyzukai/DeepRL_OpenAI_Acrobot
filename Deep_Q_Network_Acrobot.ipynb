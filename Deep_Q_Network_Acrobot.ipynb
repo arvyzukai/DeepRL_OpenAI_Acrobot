{
 "cells": [
  {
   "cell_type": "markdown",
   "metadata": {},
   "source": [
    "# Deep Q-Network (DQN) - Acrobot\n",
    "---\n",
    "In this notebook, you will implement a DQN agent with OpenAI Gym's LunarLander-v2 environment.\n",
    "\n",
    "### 1. Import the Necessary Packages"
   ]
  },
  {
   "cell_type": "code",
   "execution_count": 1,
   "metadata": {},
   "outputs": [],
   "source": [
    "import gym\n",
    "#!pip3 install box2d\n",
    "import random\n",
    "import torch\n",
    "import numpy as np\n",
    "from collections import deque\n",
    "import matplotlib.pyplot as plt\n",
    "%matplotlib inline\n",
    "\n",
    "# uncomment for ubuntu:\n",
    "#!python -m pip install pyvirtualdisplay\n",
    "#from pyvirtualdisplay import Display\n",
    "#display = Display(visible=0, size=(1400, 900))\n",
    "#display.start()\n",
    "\n",
    "is_ipython = 'inline' in plt.get_backend()\n",
    "if is_ipython:\n",
    "    from IPython import display\n",
    "\n",
    "plt.ion()"
   ]
  },
  {
   "cell_type": "markdown",
   "metadata": {},
   "source": [
    "### 2. Instantiate the Environment and Agent\n",
    "\n",
    "Initialize the environment in the code cell below."
   ]
  },
  {
   "cell_type": "code",
   "execution_count": 2,
   "metadata": {},
   "outputs": [
    {
     "name": "stdout",
     "output_type": "stream",
     "text": [
      "State shape:  (6,)\n",
      "Number of actions:  3\n"
     ]
    }
   ],
   "source": [
    "env = gym.make('Acrobot-v1')\n",
    "env.seed(0)\n",
    "print('State shape: ', env.observation_space.shape)\n",
    "print('Number of actions: ', env.action_space.n)"
   ]
  },
  {
   "cell_type": "code",
   "execution_count": 3,
   "metadata": {},
   "outputs": [
    {
     "data": {
      "text/plain": [
       "\"\\nAcrobot is a 2-link pendulum with only the second joint actuated.\\nInitially, both links point downwards. The goal is to swing the\\nend-effector at a height at least the length of one link above the base.\\nBoth links can swing freely and can pass by each other, i.e., they don't\\ncollide when they have the same angle.\\n**STATE:**\\nThe state consists of the sin() and cos() of the two rotational joint\\nangles and the joint angular velocities :\\n[cos(theta1) sin(theta1) cos(theta2) sin(theta2) thetaDot1 thetaDot2].\\nFor the first link, an angle of 0 corresponds to the link pointing downwards.\\nThe angle of the second link is relative to the angle of the first link.\\nAn angle of 0 corresponds to having the same angle between the two links.\\nA state of [1, 0, 1, 0, ..., ...] means that both links point downwards.\\n**ACTIONS:**\\nThe action is either applying +1, 0 or -1 torque on the joint between\\nthe two pendulum links.\\n.. note::\\n    The dynamics equations were missing some terms in the NIPS paper which\\n    are present in the book. R. Sutton confirmed in personal correspondence\\n    that the experimental results shown in the paper and the book were\\n    generated with the equations shown in the book.\\n    However, there is the option to run the domain with the paper equations\\n    by setting book_or_nips = 'nips'\\n**REFERENCE:**\\n.. seealso::\\n    R. Sutton: Generalization in Reinforcement Learning:\\n    Successful Examples Using Sparse Coarse Coding (NIPS 1996)\\n.. seealso::\\n    R. Sutton and A. G. Barto:\\n    Reinforcement learning: An introduction.\\n    Cambridge: MIT press, 1998.\\n.. warning::\\n    This version of the domain uses the Runge-Kutta method for integrating\\n    the system dynamics and is more realistic, but also considerably harder\\n    than the original version which employs Euler integration,\\n    see the AcrobotLegacy class.\\n\""
      ]
     },
     "execution_count": 3,
     "metadata": {},
     "output_type": "execute_result"
    }
   ],
   "source": [
    "    \"\"\"\n",
    "    Acrobot is a 2-link pendulum with only the second joint actuated.\n",
    "    Initially, both links point downwards. The goal is to swing the\n",
    "    end-effector at a height at least the length of one link above the base.\n",
    "    Both links can swing freely and can pass by each other, i.e., they don't\n",
    "    collide when they have the same angle.\n",
    "    **STATE:**\n",
    "    The state consists of the sin() and cos() of the two rotational joint\n",
    "    angles and the joint angular velocities :\n",
    "    [cos(theta1) sin(theta1) cos(theta2) sin(theta2) thetaDot1 thetaDot2].\n",
    "    For the first link, an angle of 0 corresponds to the link pointing downwards.\n",
    "    The angle of the second link is relative to the angle of the first link.\n",
    "    An angle of 0 corresponds to having the same angle between the two links.\n",
    "    A state of [1, 0, 1, 0, ..., ...] means that both links point downwards.\n",
    "    **ACTIONS:**\n",
    "    The action is either applying +1, 0 or -1 torque on the joint between\n",
    "    the two pendulum links.\n",
    "    .. note::\n",
    "        The dynamics equations were missing some terms in the NIPS paper which\n",
    "        are present in the book. R. Sutton confirmed in personal correspondence\n",
    "        that the experimental results shown in the paper and the book were\n",
    "        generated with the equations shown in the book.\n",
    "        However, there is the option to run the domain with the paper equations\n",
    "        by setting book_or_nips = 'nips'\n",
    "    **REFERENCE:**\n",
    "    .. seealso::\n",
    "        R. Sutton: Generalization in Reinforcement Learning:\n",
    "        Successful Examples Using Sparse Coarse Coding (NIPS 1996)\n",
    "    .. seealso::\n",
    "        R. Sutton and A. G. Barto:\n",
    "        Reinforcement learning: An introduction.\n",
    "        Cambridge: MIT press, 1998.\n",
    "    .. warning::\n",
    "        This version of the domain uses the Runge-Kutta method for integrating\n",
    "        the system dynamics and is more realistic, but also considerably harder\n",
    "        than the original version which employs Euler integration,\n",
    "        see the AcrobotLegacy class.\n",
    "    \"\"\""
   ]
  },
  {
   "cell_type": "code",
   "execution_count": 4,
   "metadata": {
    "scrolled": true
   },
   "outputs": [
    {
     "data": {
      "image/png": "[encoded data removed]",
      "text/plain": [
       "<Figure size 432x288 with 1 Axes>"
      ]
     },
     "metadata": {
      "needs_background": "light"
     },
     "output_type": "display_data"
    }
   ],
   "source": [
    "from dqn_agent_Acro import Agent\n",
    "\n",
    "agent = Agent(state_size=6, action_size=3, seed=torch.random.seed())\n",
    "\n",
    "# watch an untrained agent\n",
    "state = env.reset()\n",
    "img = plt.imshow(env.render(mode='rgb_array'))\n",
    "for j in range(200):\n",
    "    action = agent.pick_action(state)\n",
    "    img.set_data(env.render(mode='rgb_array')) \n",
    "    plt.axis('off')\n",
    "    #display.display(plt.gcf())\n",
    "    #display.clear_output(wait=True)\n",
    "    state, reward, done, _ = env.step(action)\n",
    "    if done:\n",
    "        break \n",
    "        \n",
    "env.close()"
   ]
  },
  {
   "cell_type": "markdown",
   "metadata": {},
   "source": [
    "### 3. Train the Agent with DQN\n",
    "\n",
    "Run the code cell below to train the agent from scratch.  You are welcome to amend the supplied values of the parameters in the function, to try to see if you can get better performance!"
   ]
  },
  {
   "cell_type": "code",
   "execution_count": null,
   "metadata": {
    "scrolled": false
   },
   "outputs": [
    {
     "name": "stdout",
     "output_type": "stream",
     "text": [
      "Episode 100\tAverage Score: -496.94\n",
      "Episode 200\tAverage Score: -436.99\n",
      "Episode 300\tAverage Score: -366.55\n",
      "Episode 358\tAverage Score: -351.15"
     ]
    }
   ],
   "source": [
    "def dqn(n_episodes=2000, max_t=1000, eps_start=1.0, eps_end=0.01, eps_decay=0.99):\n",
    "    \"\"\"Deep Q-Learning.\n",
    "    \n",
    "    Params\n",
    "    ======\n",
    "        n_episodes (int): maximum number of training episodes\n",
    "        max_t (int): maximum number of timesteps per episode\n",
    "        eps_start (float): starting value of epsilon, for epsilon-greedy action selection\n",
    "        eps_end (float): minimum value of epsilon\n",
    "        eps_decay (float): multiplicative factor (per episode) for decreasing epsilon\n",
    "    \"\"\"\n",
    "    scores = []                        # list containing scores from each episode\n",
    "    scores_window = deque(maxlen=100)  # last 100 scores\n",
    "    eps = eps_start                    # initialize epsilon\n",
    "    for i_episode in range(1, n_episodes+1):\n",
    "        state = env.reset()\n",
    "        score = 0\n",
    "        for t in range(max_t):\n",
    "            action = agent.pick_action(state, eps)\n",
    "            next_state, reward, done, _ = env.step(action)\n",
    "            agent.step(state, action, reward, next_state, done)\n",
    "            state = next_state\n",
    "            score += reward\n",
    "            if done:\n",
    "                break \n",
    "        scores_window.append(score)       # save most recent score\n",
    "        scores.append(score)              # save most recent score\n",
    "        eps = max(eps_end, eps_decay*eps) # decrease epsilon\n",
    "        print('\\rEpisode {}\\tAverage Score: {:.2f}'.format(i_episode, np.mean(scores_window)), end=\"\")\n",
    "        if i_episode % 100 == 0:\n",
    "            #breakpoint()\n",
    "            print('\\rEpisode {}\\tAverage Score: {:.2f}'.format(i_episode, np.mean(scores_window)))\n",
    "        if np.mean(scores_window)>=-91:\n",
    "            print('\\nEnvironment solved in {:d} episodes!\\tAverage Score: {:.2f}'.format(i_episode-100, np.mean(scores_window)))\n",
    "            torch.save(agent.qnetwork_local.state_dict(), 'checkpoint_Acro.pth')\n",
    "            break\n",
    "    return scores\n",
    "\n",
    "scores = dqn()\n",
    "\n",
    "# plot the scores\n",
    "fig = plt.figure()\n",
    "ax = fig.add_subplot(111)\n",
    "plt.plot(np.arange(len(scores)), scores)\n",
    "plt.ylabel('Score')\n",
    "plt.xlabel('Episode #')\n",
    "plt.show()"
   ]
  },
  {
   "cell_type": "code",
   "execution_count": null,
   "metadata": {},
   "outputs": [],
   "source": [
    "agent.qnetwork_local"
   ]
  },
  {
   "cell_type": "markdown",
   "metadata": {},
   "source": [
    "### 4. Watch a Smart Agent!\n",
    "\n",
    "In the next code cell, you will load the trained weights from file to watch a smart agent!"
   ]
  },
  {
   "cell_type": "code",
   "execution_count": null,
   "metadata": {},
   "outputs": [],
   "source": [
    "# load the weights from file\n",
    "#agent.qnetwork_local.load_state_dict(torch.load('checkpoint_MNTC.pth'))\n",
    "\n",
    "for i in range(10):\n",
    "    state = env.reset()\n",
    "    img = plt.imshow(env.render(mode='rgb_array'))\n",
    "    for j in range(200):\n",
    "        action = agent.pick_action(state)\n",
    "        img.set_data(env.render(mode='rgb_array')) \n",
    "        plt.axis('off')\n",
    "        #display(plt.gcf())\n",
    "        #display.clear_output(wait=True)\n",
    "        state, reward, done, _ = env.step(action)\n",
    "        if done:\n",
    "            break \n",
    "            \n",
    "env.close()"
   ]
  },
  {
   "cell_type": "code",
   "execution_count": null,
   "metadata": {},
   "outputs": [],
   "source": [
    "state"
   ]
  },
  {
   "cell_type": "code",
   "execution_count": null,
   "metadata": {},
   "outputs": [],
   "source": [
    "import pandas as pd\n",
    "pd.DataFrame(agent.qnetwork_local.fc1.weight.data.cpu().numpy())"
   ]
  },
  {
   "cell_type": "code",
   "execution_count": null,
   "metadata": {},
   "outputs": [],
   "source": [
    "agent.qnetwork_local.fc3.bias"
   ]
  },
  {
   "cell_type": "markdown",
   "metadata": {},
   "source": [
    "### 5. Explore\n",
    "\n",
    "In this exercise, you have implemented a DQN agent and demonstrated how to use it to solve an OpenAI Gym environment.  To continue your learning, you are encouraged to complete any (or all!) of the following tasks:\n",
    "- Amend the various hyperparameters and network architecture to see if you can get your agent to solve the environment faster.  Once you build intuition for the hyperparameters that work well with this environment, try solving a different OpenAI Gym task with discrete actions!\n",
    "- You may like to implement some improvements such as prioritized experience replay, Double DQN, or Dueling DQN! \n",
    "- Write a blog post explaining the intuition behind the DQN algorithm and demonstrating how to use it to solve an RL environment of your choosing.  "
   ]
  }
 ],
 "metadata": {
  "kernelspec": {
   "display_name": "Python 3",
   "language": "python",
   "name": "python3"
  },
  "language_info": {
   "codemirror_mode": {
    "name": "ipython",
    "version": 3
   },
   "file_extension": ".py",
   "mimetype": "text/x-python",
   "name": "python",
   "nbconvert_exporter": "python",
   "pygments_lexer": "ipython3",
   "version": "3.8.5"
  }
 },
 "nbformat": 4,
 "nbformat_minor": 2
}
