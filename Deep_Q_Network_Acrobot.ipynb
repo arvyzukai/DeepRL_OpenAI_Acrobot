{
 "cells": [
  {
   "cell_type": "markdown",
   "metadata": {},
   "source": [
    "# Deep Q-Network (DQN) - Acrobot\n",
    "---\n",
    "In this notebook, you will implement a DQN agent with OpenAI Gym's LunarLander-v2 environment.\n",
    "\n",
    "### 1. Import the Necessary Packages"
   ]
  },
  {
   "cell_type": "code",
   "execution_count": 1,
   "metadata": {},
   "outputs": [],
   "source": [
    "import gym\n",
    "#!pip3 install box2d\n",
    "import random\n",
    "import torch\n",
    "import numpy as np\n",
    "from collections import deque\n",
    "import matplotlib.pyplot as plt\n",
    "%matplotlib inline\n",
    "\n",
    "# uncomment for ubuntu:\n",
    "#!python -m pip install pyvirtualdisplay\n",
    "#from pyvirtualdisplay import Display\n",
    "#display = Display(visible=0, size=(1400, 900))\n",
    "#display.start()\n",
    "\n",
    "is_ipython = 'inline' in plt.get_backend()\n",
    "if is_ipython:\n",
    "    from IPython import display\n",
    "\n",
    "plt.ion()"
   ]
  },
  {
   "cell_type": "markdown",
   "metadata": {},
   "source": [
    "### 2. Instantiate the Environment and Agent\n",
    "\n",
    "Initialize the environment in the code cell below."
   ]
  },
  {
   "cell_type": "code",
   "execution_count": 2,
   "metadata": {},
   "outputs": [
    {
     "name": "stdout",
     "output_type": "stream",
     "text": [
      "State shape:  (6,)\n",
      "Number of actions:  3\n"
     ]
    }
   ],
   "source": [
    "env = gym.make('Acrobot-v1')\n",
    "env.seed(0)\n",
    "print('State shape: ', env.observation_space.shape)\n",
    "print('Number of actions: ', env.action_space.n)"
   ]
  },
  {
   "cell_type": "markdown",
   "metadata": {},
   "source": [
    "\n",
    "    Acrobot is a 2-link pendulum with only the second joint actuated.\n",
    "    Initially, both links point downwards. The goal is to swing the\n",
    "    end-effector at a height at least the length of one link above the base.\n",
    "    Both links can swing freely and can pass by each other, i.e., they don't\n",
    "    collide when they have the same angle.\n",
    "    **STATE:**\n",
    "    The state consists of the sin() and cos() of the two rotational joint\n",
    "    angles and the joint angular velocities :\n",
    "    [cos(theta1) sin(theta1) cos(theta2) sin(theta2) thetaDot1 thetaDot2].\n",
    "    For the first link, an angle of 0 corresponds to the link pointing downwards.\n",
    "    The angle of the second link is relative to the angle of the first link.\n",
    "    An angle of 0 corresponds to having the same angle between the two links.\n",
    "    A state of [1, 0, 1, 0, ..., ...] means that both links point downwards.\n",
    "    **ACTIONS:**\n",
    "    The action is either applying +1, 0 or -1 torque on the joint between\n",
    "    the two pendulum links.\n",
    "    .. note::\n",
    "        The dynamics equations were missing some terms in the NIPS paper which\n",
    "        are present in the book. R. Sutton confirmed in personal correspondence\n",
    "        that the experimental results shown in the paper and the book were\n",
    "        generated with the equations shown in the book.\n",
    "        However, there is the option to run the domain with the paper equations\n",
    "        by setting book_or_nips = 'nips'\n",
    "    **REFERENCE:**\n",
    "    .. seealso::\n",
    "        R. Sutton: Generalization in Reinforcement Learning:\n",
    "        Successful Examples Using Sparse Coarse Coding (NIPS 1996)\n",
    "    .. seealso::\n",
    "        R. Sutton and A. G. Barto:\n",
    "        Reinforcement learning: An introduction.\n",
    "        Cambridge: MIT press, 1998.\n",
    "    .. warning::\n",
    "        This version of the domain uses the Runge-Kutta method for integrating\n",
    "        the system dynamics and is more realistic, but also considerably harder\n",
    "        than the original version which employs Euler integration,\n",
    "        see the AcrobotLegacy class.\n"
   ]
  },
  {
   "cell_type": "code",
   "execution_count": 3,
   "metadata": {
    "scrolled": true
   },
   "outputs": [
    {
     "data": {
      "image/png": "[encoded data removed]",
      "text/plain": [
       "<Figure size 432x288 with 1 Axes>"
      ]
     },
     "metadata": {
      "needs_background": "light"
     },
     "output_type": "display_data"
    }
   ],
   "source": [
    "from dqn_agent_Acro import Agent\n",
    "\n",
    "agent = Agent(state_size=6, action_size=3, seed=torch.random.seed())\n",
    "\n",
    "# watch an untrained agent\n",
    "state = env.reset()\n",
    "img = plt.imshow(env.render(mode='rgb_array'))\n",
    "for j in range(200):\n",
    "    action = agent.pick_action(state)\n",
    "    img.set_data(env.render(mode='rgb_array')) \n",
    "    plt.axis('off')\n",
    "    #display.display(plt.gcf())\n",
    "    #display.clear_output(wait=True)\n",
    "    state, reward, done, _ = env.step(action)\n",
    "    if done:\n",
    "        break \n",
    "        \n",
    "env.close()"
   ]
  },
  {
   "cell_type": "markdown",
   "metadata": {},
   "source": [
    "### 3. Train the Agent with DQN\n",
    "\n",
    "Run the code cell below to train the agent from scratch.  You are welcome to amend the supplied values of the parameters in the function, to try to see if you can get better performance!"
   ]
  },
  {
   "cell_type": "code",
   "execution_count": 4,
   "metadata": {
    "scrolled": false
   },
   "outputs": [
    {
     "name": "stdout",
     "output_type": "stream",
     "text": [
      "Episode 100\tAverage Score: -472.88\n",
      "Episode 200\tAverage Score: -405.13\n",
      "Episode 300\tAverage Score: -346.89\n",
      "Episode 400\tAverage Score: -243.94\n",
      "Episode 500\tAverage Score: -224.34\n",
      "Episode 600\tAverage Score: -220.08\n",
      "Episode 700\tAverage Score: -229.94\n",
      "Episode 800\tAverage Score: -307.83\n",
      "Episode 900\tAverage Score: -330.50\n",
      "Episode 1000\tAverage Score: -316.45\n",
      "Episode 1100\tAverage Score: -254.91\n",
      "Episode 1200\tAverage Score: -218.60\n",
      "Episode 1300\tAverage Score: -195.14\n",
      "Episode 1400\tAverage Score: -170.13\n",
      "Episode 1500\tAverage Score: -149.97\n",
      "Episode 1600\tAverage Score: -144.46\n",
      "Episode 1700\tAverage Score: -120.76\n",
      "Episode 1800\tAverage Score: -128.58\n",
      "Episode 1900\tAverage Score: -126.16\n",
      "Episode 2000\tAverage Score: -132.03\n"
     ]
    },
    {
     "data": {
      "image/png": "[encoded data removed]",
      "text/plain": [
       "<Figure size 432x288 with 1 Axes>"
      ]
     },
     "metadata": {
      "needs_background": "light"
     },
     "output_type": "display_data"
    },
    {
     "name": "stdout",
     "output_type": "stream",
     "text": [
      "Wall time: 6min 45s\n"
     ]
    }
   ],
   "source": [
    "%%time\n",
    "\n",
    "def dqn(n_episodes=2000, max_t=1000, eps_start=1.0, eps_end=0.05, eps_decay=0.99):\n",
    "    \"\"\"Deep Q-Learning.\n",
    "    \n",
    "    Params\n",
    "    ======\n",
    "        n_episodes (int): maximum number of training episodes\n",
    "        max_t (int): maximum number of timesteps per episode\n",
    "        eps_start (float): starting value of epsilon, for epsilon-greedy action selection\n",
    "        eps_end (float): minimum value of epsilon\n",
    "        eps_decay (float): multiplicative factor (per episode) for decreasing epsilon\n",
    "    \"\"\"\n",
    "    scores = []                        # list containing scores from each episode\n",
    "    scores_window = deque(maxlen=100)  # last 100 scores\n",
    "    eps = eps_start                    # initialize epsilon\n",
    "    for i_episode in range(1, n_episodes+1):\n",
    "        state = env.reset()\n",
    "        score = 0\n",
    "        for t in range(max_t):\n",
    "            action = agent.pick_action(state, eps)\n",
    "            next_state, reward, done, _ = env.step(action)\n",
    "            agent.step(state, action, reward, next_state, done)\n",
    "            state = next_state\n",
    "            score += reward\n",
    "            if done:\n",
    "                break \n",
    "        scores_window.append(score)       # save most recent score\n",
    "        scores.append(score)              # save most recent score\n",
    "        eps = max(eps_end, eps_decay*eps) # decrease epsilon\n",
    "        print('\\rEpisode {}\\tAverage Score: {:.2f}'.format(i_episode, np.mean(scores_window)), end=\"\")\n",
    "        if i_episode % 100 == 0:\n",
    "            #breakpoint()\n",
    "            print('\\rEpisode {}\\tAverage Score: {:.2f}'.format(i_episode, np.mean(scores_window)))\n",
    "        if np.mean(scores_window)>=-91:\n",
    "            print('\\nEnvironment solved in {:d} episodes!\\tAverage Score: {:.2f}'.format(i_episode-100, np.mean(scores_window)))\n",
    "            torch.save(agent.qnetwork_local.state_dict(), 'checkpoint_Acro.pth')\n",
    "            break\n",
    "    return scores\n",
    "\n",
    "scores = dqn()\n",
    "\n",
    "# plot the scores\n",
    "fig = plt.figure()\n",
    "ax = fig.add_subplot(111)\n",
    "plt.plot(np.arange(len(scores)), scores)\n",
    "plt.ylabel('Score')\n",
    "plt.xlabel('Episode #')\n",
    "plt.show()"
   ]
  },
  {
   "cell_type": "markdown",
   "metadata": {},
   "source": [
    "### 4. Watch a Smart Agent!\n",
    "\n",
    "In the next code cell, you will load the trained weights from file to watch a smart agent!"
   ]
  },
  {
   "cell_type": "code",
   "execution_count": 5,
   "metadata": {},
   "outputs": [
    {
     "data": {
      "image/png": "[encoded data removed]",
      "text/plain": [
       "<Figure size 432x288 with 1 Axes>"
      ]
     },
     "metadata": {
      "needs_background": "light"
     },
     "output_type": "display_data"
    }
   ],
   "source": [
    "# load the weights from file\n",
    "#agent.qnetwork_local.load_state_dict(torch.load('checkpoint_MNTC.pth'))\n",
    "\n",
    "for i in range(10):\n",
    "    state = env.reset()\n",
    "    img = plt.imshow(env.render(mode='rgb_array'))\n",
    "    for j in range(200):\n",
    "        action = agent.pick_action(state)\n",
    "        img.set_data(env.render(mode='rgb_array')) \n",
    "        plt.axis('off')\n",
    "        #display(plt.gcf())\n",
    "        #display.clear_output(wait=True)\n",
    "        state, reward, done, _ = env.step(action)\n",
    "        if done:\n",
    "            break \n",
    "            \n",
    "env.close()"
   ]
  },
  {
   "cell_type": "code",
   "execution_count": 6,
   "metadata": {},
   "outputs": [
    {
     "data": {
      "text/plain": [
       "array([-0.63831657,  0.76977396,  0.93878087,  0.34451483,  1.72698575,\n",
       "       -0.76263951])"
      ]
     },
     "execution_count": 6,
     "metadata": {},
     "output_type": "execute_result"
    }
   ],
   "source": [
    "state"
   ]
  },
  {
   "cell_type": "code",
   "execution_count": 7,
   "metadata": {},
   "outputs": [
    {
     "data": {
      "text/html": [
       "<div>\n",
       "<style scoped>\n",
       "    .dataframe tbody tr th:only-of-type {\n",
       "        vertical-align: middle;\n",
       "    }\n",
       "\n",
       "    .dataframe tbody tr th {\n",
       "        vertical-align: top;\n",
       "    }\n",
       "\n",
       "    .dataframe thead th {\n",
       "        text-align: right;\n",
       "    }\n",
       "</style>\n",
       "<table border=\"1\" class=\"dataframe\">\n",
       "  <thead>\n",
       "    <tr style=\"text-align: right;\">\n",
       "      <th></th>\n",
       "      <th>0</th>\n",
       "      <th>1</th>\n",
       "      <th>2</th>\n",
       "      <th>3</th>\n",
       "      <th>4</th>\n",
       "      <th>5</th>\n",
       "    </tr>\n",
       "  </thead>\n",
       "  <tbody>\n",
       "    <tr>\n",
       "      <th>0</th>\n",
       "      <td>-5.437404</td>\n",
       "      <td>0.397916</td>\n",
       "      <td>-0.146719</td>\n",
       "      <td>-0.564633</td>\n",
       "      <td>2.423887</td>\n",
       "      <td>0.281015</td>\n",
       "    </tr>\n",
       "    <tr>\n",
       "      <th>1</th>\n",
       "      <td>0.675257</td>\n",
       "      <td>-1.497729</td>\n",
       "      <td>0.288363</td>\n",
       "      <td>0.810361</td>\n",
       "      <td>1.991334</td>\n",
       "      <td>-2.108809</td>\n",
       "    </tr>\n",
       "    <tr>\n",
       "      <th>2</th>\n",
       "      <td>-0.892791</td>\n",
       "      <td>-0.219432</td>\n",
       "      <td>2.528375</td>\n",
       "      <td>-0.073438</td>\n",
       "      <td>-3.582177</td>\n",
       "      <td>-2.241998</td>\n",
       "    </tr>\n",
       "    <tr>\n",
       "      <th>3</th>\n",
       "      <td>-5.477118</td>\n",
       "      <td>-6.493919</td>\n",
       "      <td>-2.044894</td>\n",
       "      <td>-0.666220</td>\n",
       "      <td>-0.285568</td>\n",
       "      <td>-0.691373</td>\n",
       "    </tr>\n",
       "    <tr>\n",
       "      <th>4</th>\n",
       "      <td>4.466696</td>\n",
       "      <td>1.508916</td>\n",
       "      <td>2.415911</td>\n",
       "      <td>2.017746</td>\n",
       "      <td>-0.228768</td>\n",
       "      <td>-0.554965</td>\n",
       "    </tr>\n",
       "    <tr>\n",
       "      <th>5</th>\n",
       "      <td>-2.999593</td>\n",
       "      <td>-0.236030</td>\n",
       "      <td>1.457819</td>\n",
       "      <td>1.002015</td>\n",
       "      <td>1.031996</td>\n",
       "      <td>1.576316</td>\n",
       "    </tr>\n",
       "    <tr>\n",
       "      <th>6</th>\n",
       "      <td>0.740643</td>\n",
       "      <td>2.180237</td>\n",
       "      <td>0.366459</td>\n",
       "      <td>-0.377653</td>\n",
       "      <td>-2.222759</td>\n",
       "      <td>1.722441</td>\n",
       "    </tr>\n",
       "    <tr>\n",
       "      <th>7</th>\n",
       "      <td>-3.472591</td>\n",
       "      <td>-0.015725</td>\n",
       "      <td>3.978273</td>\n",
       "      <td>0.515693</td>\n",
       "      <td>3.976919</td>\n",
       "      <td>1.952998</td>\n",
       "    </tr>\n",
       "    <tr>\n",
       "      <th>8</th>\n",
       "      <td>6.229371</td>\n",
       "      <td>-0.876674</td>\n",
       "      <td>3.406709</td>\n",
       "      <td>-0.289739</td>\n",
       "      <td>-0.042921</td>\n",
       "      <td>-0.064883</td>\n",
       "    </tr>\n",
       "    <tr>\n",
       "      <th>9</th>\n",
       "      <td>-3.157311</td>\n",
       "      <td>-2.233999</td>\n",
       "      <td>-1.815392</td>\n",
       "      <td>-0.531343</td>\n",
       "      <td>-2.099922</td>\n",
       "      <td>-0.175566</td>\n",
       "    </tr>\n",
       "    <tr>\n",
       "      <th>10</th>\n",
       "      <td>-2.349448</td>\n",
       "      <td>-7.090282</td>\n",
       "      <td>-2.760624</td>\n",
       "      <td>3.235657</td>\n",
       "      <td>0.703385</td>\n",
       "      <td>-0.319618</td>\n",
       "    </tr>\n",
       "    <tr>\n",
       "      <th>11</th>\n",
       "      <td>-3.251072</td>\n",
       "      <td>6.788365</td>\n",
       "      <td>-2.623734</td>\n",
       "      <td>-0.740629</td>\n",
       "      <td>-0.997923</td>\n",
       "      <td>-0.828745</td>\n",
       "    </tr>\n",
       "    <tr>\n",
       "      <th>12</th>\n",
       "      <td>-1.568917</td>\n",
       "      <td>-4.702373</td>\n",
       "      <td>0.411567</td>\n",
       "      <td>-4.391309</td>\n",
       "      <td>-1.429840</td>\n",
       "      <td>-0.043148</td>\n",
       "    </tr>\n",
       "    <tr>\n",
       "      <th>13</th>\n",
       "      <td>-2.123725</td>\n",
       "      <td>5.033961</td>\n",
       "      <td>0.591058</td>\n",
       "      <td>-3.655580</td>\n",
       "      <td>-0.411532</td>\n",
       "      <td>0.160604</td>\n",
       "    </tr>\n",
       "    <tr>\n",
       "      <th>14</th>\n",
       "      <td>-0.345550</td>\n",
       "      <td>0.163508</td>\n",
       "      <td>0.475292</td>\n",
       "      <td>0.084349</td>\n",
       "      <td>-0.134467</td>\n",
       "      <td>-0.064688</td>\n",
       "    </tr>\n",
       "    <tr>\n",
       "      <th>15</th>\n",
       "      <td>-6.442949</td>\n",
       "      <td>2.403485</td>\n",
       "      <td>-4.768658</td>\n",
       "      <td>-0.204516</td>\n",
       "      <td>0.814635</td>\n",
       "      <td>1.159222</td>\n",
       "    </tr>\n",
       "  </tbody>\n",
       "</table>\n",
       "</div>"
      ],
      "text/plain": [
       "           0         1         2         3         4         5\n",
       "0  -5.437404  0.397916 -0.146719 -0.564633  2.423887  0.281015\n",
       "1   0.675257 -1.497729  0.288363  0.810361  1.991334 -2.108809\n",
       "2  -0.892791 -0.219432  2.528375 -0.073438 -3.582177 -2.241998\n",
       "3  -5.477118 -6.493919 -2.044894 -0.666220 -0.285568 -0.691373\n",
       "4   4.466696  1.508916  2.415911  2.017746 -0.228768 -0.554965\n",
       "5  -2.999593 -0.236030  1.457819  1.002015  1.031996  1.576316\n",
       "6   0.740643  2.180237  0.366459 -0.377653 -2.222759  1.722441\n",
       "7  -3.472591 -0.015725  3.978273  0.515693  3.976919  1.952998\n",
       "8   6.229371 -0.876674  3.406709 -0.289739 -0.042921 -0.064883\n",
       "9  -3.157311 -2.233999 -1.815392 -0.531343 -2.099922 -0.175566\n",
       "10 -2.349448 -7.090282 -2.760624  3.235657  0.703385 -0.319618\n",
       "11 -3.251072  6.788365 -2.623734 -0.740629 -0.997923 -0.828745\n",
       "12 -1.568917 -4.702373  0.411567 -4.391309 -1.429840 -0.043148\n",
       "13 -2.123725  5.033961  0.591058 -3.655580 -0.411532  0.160604\n",
       "14 -0.345550  0.163508  0.475292  0.084349 -0.134467 -0.064688\n",
       "15 -6.442949  2.403485 -4.768658 -0.204516  0.814635  1.159222"
      ]
     },
     "execution_count": 7,
     "metadata": {},
     "output_type": "execute_result"
    }
   ],
   "source": [
    "import pandas as pd\n",
    "pd.DataFrame(agent.qnetwork_local.fc1.weight.data.cpu().numpy())"
   ]
  }
 ],
 "metadata": {
  "kernelspec": {
   "display_name": "Python 3",
   "language": "python",
   "name": "python3"
  },
  "language_info": {
   "codemirror_mode": {
    "name": "ipython",
    "version": 3
   },
   "file_extension": ".py",
   "mimetype": "text/x-python",
   "name": "python",
   "nbconvert_exporter": "python",
   "pygments_lexer": "ipython3",
   "version": "3.8.5"
  }
 },
 "nbformat": 4,
 "nbformat_minor": 2
}
